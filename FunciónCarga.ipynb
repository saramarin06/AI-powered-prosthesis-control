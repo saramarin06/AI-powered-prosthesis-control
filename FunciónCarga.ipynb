{
 "cells": [
  {
   "cell_type": "markdown",
   "id": "dc57ec55",
   "metadata": {},
   "source": [
    "Función Creada por Leon para la carga de los archivos .mat sigue la linea que uso en el Notebook Extracción de Señal Prueba"
   ]
  },
  {
   "cell_type": "code",
   "execution_count": 21,
   "id": "300600f5",
   "metadata": {},
   "outputs": [],
   "source": [
    "import scipy.io\n",
    "import pandas as pd\n",
    "import numpy as np\n",
    "import matplotlib.pyplot as plt\n",
    "from pathlib import Path"
   ]
  },
  {
   "cell_type": "code",
   "execution_count": 22,
   "id": "12ba9c5e",
   "metadata": {},
   "outputs": [],
   "source": [
    "def load_emg(file_path):\n",
    "    \"\"\"\n",
    "    Carga un archivo .mat de LabChart y extrae los canales de Biceps y Triceps.\n",
    "\n",
    "    Parámetros\n",
    "    ----------\n",
    "    file_path : str o Path\n",
    "        Ruta relativa o absoluta al archivo .mat\n",
    "\n",
    "    Retorna\n",
    "    -------\n",
    "    dict con claves 'Biceps' y 'Triceps' que contienen los arrays de señal\n",
    "    \"\"\"\n",
    "    data = scipy.io.loadmat(file_path)\n",
    "\n",
    "    # Extraemos la señal principal\n",
    "    signals = data[\"data\"].squeeze()\n",
    "\n",
    "    # Extraemos títulos de los canales\n",
    "    titles = data[\"titles\"].squeeze()\n",
    "\n",
    "    # Creamos un diccionario con las señales que necesitamos\n",
    "    result = {}\n",
    "    for i, title in enumerate(titles):\n",
    "        if \"Biceps\" in title or \"Triceps\" in title:\n",
    "            start = int(data[\"datastart\"][i, 0]) - 1\n",
    "            end = int(data[\"dataend\"][i, 0])\n",
    "            result[title.strip()] = signals[start:end]\n",
    "\n",
    "##Debido a que le vamos a dar de entrada un dataframe a window slicing hay que anadir un vector de tiempo (Pipe)\n",
    "    samplerate = float(data[\"samplerate\"].squeeze()[2]) #se usa 2 por que 0 y 1 estan vacios\n",
    "\n",
    "    # Calcular el vector de tiempo\n",
    "    # Tomamos la longitud de cualquiera de las señales (ambas tienen misma duración)\n",
    "    if \"Biceps\" in result:\n",
    "        n_samples = len(result[\"Biceps\"])\n",
    "    else:\n",
    "        # Si no hay Biceps, usamos Triceps\n",
    "        n_samples = len(result[\"Triceps\"])\n",
    "\n",
    "    duration = n_samples / samplerate\n",
    "    # Vector de 0 a duración, con paso 1/samplerate\n",
    "    time_vector = np.arange(0, duration, 1.0 / samplerate)\n",
    "\n",
    "    # Aseguramos que la longitud coincida exactamente\n",
    "    time_vector = time_vector[:n_samples]\n",
    "\n",
    "    result[\"tiempo\"] = time_vector\n",
    "    db=pd.DataFrame(data=result)\n",
    "\n",
    "    return db"
   ]
  },
  {
   "cell_type": "code",
   "execution_count": 23,
   "id": "0935e56f",
   "metadata": {},
   "outputs": [
    {
     "name": "stdout",
     "output_type": "stream",
     "text": [
      "             Biceps   Triceps   tiempo\n",
      "0     -3.125000e-07 -0.000002   0.0000\n",
      "1     -4.562500e-06 -0.000026   0.0005\n",
      "2     -1.912500e-05 -0.000103   0.0010\n",
      "3     -4.781250e-05 -0.000241   0.0015\n",
      "4     -8.790625e-05 -0.000414   0.0020\n",
      "...             ...       ...      ...\n",
      "68384 -2.255937e-04 -0.000803  34.1920\n",
      "68385 -2.342500e-04 -0.000805  34.1925\n",
      "68386 -2.331250e-04 -0.000776  34.1930\n",
      "68387 -2.238750e-04 -0.000723  34.1935\n",
      "68388 -2.074688e-04 -0.000647  34.1940\n",
      "\n",
      "[68389 rows x 3 columns]\n"
     ]
    }
   ],
   "source": [
    "signal=load_emg('SEÑALES EMG\\\\SUJETO1\\\\M1_JUAN_VANEGAS.mat')\n",
    "print(signal)"
   ]
  },
  {
   "cell_type": "markdown",
   "id": "cc8c8f83",
   "metadata": {},
   "source": [
    "Añadí (Pipe) cosas a la función para tener el dataframe (no creo que el orden de las columnas importe por ahora)"
   ]
  }
 ],
 "metadata": {
  "kernelspec": {
   "display_name": "Python 3",
   "language": "python",
   "name": "python3"
  },
  "language_info": {
   "codemirror_mode": {
    "name": "ipython",
    "version": 3
   },
   "file_extension": ".py",
   "mimetype": "text/x-python",
   "name": "python",
   "nbconvert_exporter": "python",
   "pygments_lexer": "ipython3",
   "version": "3.13.4"
  }
 },
 "nbformat": 4,
 "nbformat_minor": 5
}
