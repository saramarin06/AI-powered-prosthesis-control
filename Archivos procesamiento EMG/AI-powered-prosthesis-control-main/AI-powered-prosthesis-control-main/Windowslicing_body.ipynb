{
  "nbformat": 4,
  "nbformat_minor": 0,
  "metadata": {
    "colab": {
      "provenance": [],
      "authorship_tag": "ABX9TyOD+ngRZXyjpLB73XFTNxEG",
      "include_colab_link": true
    },
    "kernelspec": {
      "name": "python3",
      "display_name": "Python 3"
    },
    "language_info": {
      "name": "python"
    }
  },
  "cells": [
    {
      "cell_type": "markdown",
      "metadata": {
        "id": "view-in-github",
        "colab_type": "text"
      },
      "source": [
        "<a href=\"https://colab.research.google.com/github/saramarin06/AI-powered-prosthesis-control/blob/main/Windowslicing_body.ipynb\" target=\"_parent\"><img src=\"https://colab.research.google.com/assets/colab-badge.svg\" alt=\"Open In Colab\"/></a>"
      ]
    },
    {
      "cell_type": "code",
      "execution_count": 1,
      "metadata": {
        "colab": {
          "base_uri": "https://localhost:8080/"
        },
        "id": "Zoox6B-Oo_3M",
        "outputId": "f23183db-cede-4c94-84cb-0a58e84e398e"
      },
      "outputs": [
        {
          "output_type": "stream",
          "name": "stdout",
          "text": [
            "Forma: (9, 20)\n",
            "         0         1         2         3         4         5         6   \\\n",
            "0 -0.053972  0.626013  1.050827  0.835746  0.216629  0.083679 -0.535267   \n",
            "1  0.504596  1.011085  0.840309  0.787348  0.420430 -0.854947 -0.151885   \n",
            "2 -0.225648 -0.326636  0.691794  0.921636  0.716076  0.016694 -0.783774   \n",
            "3  0.295488  0.220665  0.958639  0.795545  0.422082  0.193274 -0.245712   \n",
            "4  0.238870  1.093474  0.923080  0.426460  1.172840 -0.672401 -0.477261   \n",
            "\n",
            "         7         8         9         10        11        12        13  \\\n",
            "0 -1.489573 -0.948498 -0.328090  0.504596  1.011085  0.840309  0.787348   \n",
            "1 -1.288548 -0.649752 -0.486629 -0.225648 -0.326636  0.691794  0.921636   \n",
            "2 -0.906277 -0.933625 -0.264848  0.295488  0.220665  0.958639  0.795545   \n",
            "3 -0.940228 -0.732487 -0.749725  0.238870  1.093474  0.923080  0.426460   \n",
            "4 -0.703027 -1.290992 -0.836918 -0.244265  0.158802  0.611468  0.760238   \n",
            "\n",
            "         14        15        16        17        18        19  \n",
            "0  0.420430 -0.854947 -0.151885 -1.288548 -0.649752 -0.486629  \n",
            "1  0.716076  0.016694 -0.783774 -0.906277 -0.933625 -0.264848  \n",
            "2  0.422082  0.193274 -0.245712 -0.940228 -0.732487 -0.749725  \n",
            "3  1.172840 -0.672401 -0.477261 -0.703027 -1.290992 -0.836918  \n",
            "4  0.570636  0.060135 -0.998741 -0.547238 -0.756931 -0.560755  \n"
          ]
        }
      ],
      "source": [
        "import numpy as np\n",
        "import pandas as pd\n",
        "\n",
        "def window_slicing(signal, window_size, overlap):\n",
        "    \"\"\"\n",
        "    Corta una señal en ventanas con solapamiento y devuelve un DataFrame.\n",
        "    \"\"\"\n",
        "\n",
        "    if not 0 <= overlap < 1:\n",
        "        raise ValueError(\"El overlap debe estar entre 0 (sin solape) y <1\")\n",
        "\n",
        "    step = int(window_size * (1 - overlap))\n",
        "    if step <= 0:\n",
        "        raise ValueError(\"El overlap es demasiado alto, el paso es 0 o negativo\")\n",
        "\n",
        "    ventanas = []\n",
        "    for start in range(0, len(signal) - window_size + 1, step):\n",
        "        ventanas.append(signal[start : start + window_size])\n",
        "\n",
        "    # 👇 aquí devolvemos DataFrame\n",
        "    return pd.DataFrame(ventanas)\n",
        "\n",
        "# Señal de prueba\n",
        "t = np.linspace(0, 1, 100, endpoint=False)\n",
        "emg = np.sin(2*np.pi*10*t) + 0.3*np.random.randn(100)\n",
        "\n",
        "ventanas_df = window_slicing(emg, window_size=20, overlap=0.5)\n",
        "\n",
        "print(\"Forma:\", ventanas_df.shape)   # (9, 20)\n",
        "print(ventanas_df.head())\n"
      ]
    },
    {
      "cell_type": "code",
      "source": [
        "print(type(ventanas_df))"
      ],
      "metadata": {
        "colab": {
          "base_uri": "https://localhost:8080/"
        },
        "id": "nNW_DxnopdME",
        "outputId": "34f599f2-4907-4bea-c33c-993479e624f8"
      },
      "execution_count": 3,
      "outputs": [
        {
          "output_type": "stream",
          "name": "stdout",
          "text": [
            "<class 'pandas.core.frame.DataFrame'>\n"
          ]
        }
      ]
    },
    {
      "cell_type": "code",
      "source": [
        "ventanas_df.shape"
      ],
      "metadata": {
        "colab": {
          "base_uri": "https://localhost:8080/"
        },
        "id": "ykGNdosdq5lA",
        "outputId": "e69d584e-683f-440a-bfe0-2b9e7d8d496a"
      },
      "execution_count": 5,
      "outputs": [
        {
          "output_type": "execute_result",
          "data": {
            "text/plain": [
              "(9, 20)"
            ]
          },
          "metadata": {},
          "execution_count": 5
        }
      ]
    }
  ]
}