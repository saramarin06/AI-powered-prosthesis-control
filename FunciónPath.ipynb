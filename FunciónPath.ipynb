{
 "cells": [
  {
   "cell_type": "markdown",
   "id": "5c7b0b7c",
   "metadata": {},
   "source": [
    "Intento de crear una función que entregue los path de los archivos .mat para su posterior carga"
   ]
  },
  {
   "cell_type": "code",
   "execution_count": 1,
   "id": "ceac7700",
   "metadata": {},
   "outputs": [],
   "source": [
    "import os\n",
    "\n",
    "def listar_archivos_mat(ruta_principal):\n",
    "    \"\"\"\n",
    "    Recorre todas las carpetas y subcarpetas en 'ruta_principal'\n",
    "    y devuelve una lista con las rutas completas de los archivos .mat\n",
    "    \"\"\"\n",
    "    lista_paths = []\n",
    "    for carpeta, _, archivos in os.walk(ruta_principal):\n",
    "        for archivo in archivos:\n",
    "            if archivo.lower().endswith(\".mat\"):  # Filtrar solo .mat\n",
    "                lista_paths.append(os.path.join(carpeta, archivo))\n",
    "    return lista_paths\n"
   ]
  },
  {
   "cell_type": "code",
   "execution_count": 2,
   "id": "7f65233a",
   "metadata": {},
   "outputs": [
    {
     "name": "stdout",
     "output_type": "stream",
     "text": [
      "['/workspaces/AI-powered-prosthesis-control/SEÑALES EMG/SUJETO1/M3_JUAN_VANEGAS.mat', '/workspaces/AI-powered-prosthesis-control/SEÑALES EMG/SUJETO1/M1_JUAN_VANEGAS.mat', '/workspaces/AI-powered-prosthesis-control/SEÑALES EMG/SUJETO1/M2_JUAN_VANEGAS.mat', '/workspaces/AI-powered-prosthesis-control/SEÑALES EMG/SUJETO7/M3_LEON_ARBOLEDA.mat', '/workspaces/AI-powered-prosthesis-control/SEÑALES EMG/SUJETO7/M1_LEON_ARBOLEDA.mat', '/workspaces/AI-powered-prosthesis-control/SEÑALES EMG/SUJETO7/M2_LEON_ARBOLEDA.mat', '/workspaces/AI-powered-prosthesis-control/SEÑALES EMG/SUJETO4/M1_SARA_SALAMANCA.mat', '/workspaces/AI-powered-prosthesis-control/SEÑALES EMG/SUJETO4/M3_SARA_SALAMANCA.mat', '/workspaces/AI-powered-prosthesis-control/SEÑALES EMG/SUJETO4/M2_SARA_SALAMANCA.mat', '/workspaces/AI-powered-prosthesis-control/SEÑALES EMG/SUJETO5/M3_SARA_MARIN.mat', '/workspaces/AI-powered-prosthesis-control/SEÑALES EMG/SUJETO5/M1_SARA_MARIN.mat', '/workspaces/AI-powered-prosthesis-control/SEÑALES EMG/SUJETO5/M2_SARA_MARIN.mat', '/workspaces/AI-powered-prosthesis-control/SEÑALES EMG/SUJETO2/M2_SARA_MANCO.mat', '/workspaces/AI-powered-prosthesis-control/SEÑALES EMG/SUJETO2/M1_SARA_MANCO.mat', '/workspaces/AI-powered-prosthesis-control/SEÑALES EMG/SUJETO2/M3_SARA_MANCO.mat', '/workspaces/AI-powered-prosthesis-control/SEÑALES EMG/SUJETO3/M3_CAMILA_ROA.mat', '/workspaces/AI-powered-prosthesis-control/SEÑALES EMG/SUJETO3/M1_CAMILA_ROA.mat', '/workspaces/AI-powered-prosthesis-control/SEÑALES EMG/SUJETO3/M2_CAMILA_ROA.mat', '/workspaces/AI-powered-prosthesis-control/SEÑALES EMG/SUJETO6/M3_JUAN_GIRALDO.mat', '/workspaces/AI-powered-prosthesis-control/SEÑALES EMG/SUJETO6/M1_JUAN_GIRALDO.mat', '/workspaces/AI-powered-prosthesis-control/SEÑALES EMG/SUJETO6/M2_JUAN_GIRALDO.mat']\n"
     ]
    }
   ],
   "source": [
    "pathlist=listar_archivos_mat(\"/workspaces/AI-powered-prosthesis-control/SEÑALES EMG\")\n",
    "print(pathlist)"
   ]
  }
 ],
 "metadata": {
  "kernelspec": {
   "display_name": "Python 3",
   "language": "python",
   "name": "python3"
  },
  "language_info": {
   "codemirror_mode": {
    "name": "ipython",
    "version": 3
   },
   "file_extension": ".py",
   "mimetype": "text/x-python",
   "name": "python",
   "nbconvert_exporter": "python",
   "pygments_lexer": "ipython3",
   "version": "3.12.1"
  }
 },
 "nbformat": 4,
 "nbformat_minor": 5
}
