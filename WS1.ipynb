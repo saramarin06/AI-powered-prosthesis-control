{
 "cells": [
  {
   "cell_type": "markdown",
   "id": "f81728ea",
   "metadata": {},
   "source": [
    "Importo funciones de los muchachos "
   ]
  },
  {
   "cell_type": "code",
   "execution_count": 2,
   "id": "75f910c0",
   "metadata": {},
   "outputs": [],
   "source": [
    "from CargaMat1 import listar_archivos_mat\n",
    "from CargaMat1 import load_emg"
   ]
  },
  {
   "cell_type": "code",
   "execution_count": 3,
   "id": "d64bb2ea",
   "metadata": {},
   "outputs": [
    {
     "name": "stdout",
     "output_type": "stream",
     "text": [
      "['SEÑALES EMG\\\\SUJETO1\\\\M1_JUAN_VANEGAS.mat', 'SEÑALES EMG\\\\SUJETO1\\\\M2_JUAN_VANEGAS.mat', 'SEÑALES EMG\\\\SUJETO1\\\\M3_JUAN_VANEGAS.mat', 'SEÑALES EMG\\\\SUJETO2\\\\M1_SARA_MANCO.mat', 'SEÑALES EMG\\\\SUJETO2\\\\M2_SARA_MANCO.mat', 'SEÑALES EMG\\\\SUJETO2\\\\M3_SARA_MANCO.mat', 'SEÑALES EMG\\\\SUJETO3\\\\M1_CAMILA_ROA.mat', 'SEÑALES EMG\\\\SUJETO3\\\\M2_CAMILA_ROA.mat', 'SEÑALES EMG\\\\SUJETO3\\\\M3_CAMILA_ROA.mat', 'SEÑALES EMG\\\\SUJETO4\\\\M1_SARA_SALAMANCA.mat', 'SEÑALES EMG\\\\SUJETO4\\\\M2_SARA_SALAMANCA.mat', 'SEÑALES EMG\\\\SUJETO4\\\\M3_SARA_SALAMANCA.mat', 'SEÑALES EMG\\\\SUJETO5\\\\M1_SARA_MARIN.mat', 'SEÑALES EMG\\\\SUJETO5\\\\M2_SARA_MARIN.mat', 'SEÑALES EMG\\\\SUJETO5\\\\M3_SARA_MARIN.mat', 'SEÑALES EMG\\\\SUJETO6\\\\M1_JUAN_GIRALDO.mat', 'SEÑALES EMG\\\\SUJETO6\\\\M2_JUAN_GIRALDO.mat', 'SEÑALES EMG\\\\SUJETO6\\\\M3_JUAN_GIRALDO.mat', 'SEÑALES EMG\\\\SUJETO7\\\\M1_LEON_ARBOLEDA.mat', 'SEÑALES EMG\\\\SUJETO7\\\\M2_LEON_ARBOLEDA.mat', 'SEÑALES EMG\\\\SUJETO7\\\\M3_LEON_ARBOLEDA.mat']\n",
      "21\n"
     ]
    }
   ],
   "source": [
    "pathlist=listar_archivos_mat(\"SEÑALES EMG\")\n",
    "print(pathlist)\n",
    "print(len(pathlist))"
   ]
  },
  {
   "cell_type": "markdown",
   "id": "971f1eb4",
   "metadata": {},
   "source": [
    "Ahora, for para cargar las señales en una lista "
   ]
  },
  {
   "cell_type": "code",
   "execution_count": 4,
   "id": "65e1511e",
   "metadata": {},
   "outputs": [
    {
     "name": "stdout",
     "output_type": "stream",
     "text": [
      "SEÑALES EMG\\SUJETO1\\M1_JUAN_VANEGAS.mat\n",
      "SEÑALES EMG\\SUJETO1\\M2_JUAN_VANEGAS.mat\n",
      "SEÑALES EMG\\SUJETO1\\M3_JUAN_VANEGAS.mat\n",
      "SEÑALES EMG\\SUJETO2\\M1_SARA_MANCO.mat\n",
      "SEÑALES EMG\\SUJETO2\\M2_SARA_MANCO.mat\n",
      "SEÑALES EMG\\SUJETO2\\M3_SARA_MANCO.mat\n",
      "SEÑALES EMG\\SUJETO3\\M1_CAMILA_ROA.mat\n",
      "SEÑALES EMG\\SUJETO3\\M2_CAMILA_ROA.mat\n",
      "SEÑALES EMG\\SUJETO3\\M3_CAMILA_ROA.mat\n",
      "SEÑALES EMG\\SUJETO4\\M1_SARA_SALAMANCA.mat\n",
      "SEÑALES EMG\\SUJETO4\\M2_SARA_SALAMANCA.mat\n",
      "SEÑALES EMG\\SUJETO4\\M3_SARA_SALAMANCA.mat\n",
      "SEÑALES EMG\\SUJETO5\\M1_SARA_MARIN.mat\n",
      "SEÑALES EMG\\SUJETO5\\M2_SARA_MARIN.mat\n",
      "SEÑALES EMG\\SUJETO5\\M3_SARA_MARIN.mat\n",
      "SEÑALES EMG\\SUJETO6\\M1_JUAN_GIRALDO.mat\n",
      "SEÑALES EMG\\SUJETO6\\M2_JUAN_GIRALDO.mat\n",
      "SEÑALES EMG\\SUJETO6\\M3_JUAN_GIRALDO.mat\n",
      "SEÑALES EMG\\SUJETO7\\M1_LEON_ARBOLEDA.mat\n",
      "SEÑALES EMG\\SUJETO7\\M2_LEON_ARBOLEDA.mat\n",
      "SEÑALES EMG\\SUJETO7\\M3_LEON_ARBOLEDA.mat\n"
     ]
    }
   ],
   "source": [
    "lista_de_Ventanas = [] \n",
    "for i in pathlist:\n",
    "    print(i)\n",
    "    M=load_emg(i)\n",
    "    lista_de_Ventanas.append(M)"
   ]
  },
  {
   "cell_type": "code",
   "execution_count": 5,
   "id": "80ba8319",
   "metadata": {},
   "outputs": [
    {
     "name": "stdout",
     "output_type": "stream",
     "text": [
      "             Biceps   Triceps   tiempo\n",
      "0     -3.125000e-07 -0.000002   0.0000\n",
      "1     -4.562500e-06 -0.000026   0.0005\n",
      "2     -1.912500e-05 -0.000103   0.0010\n",
      "3     -4.781250e-05 -0.000241   0.0015\n",
      "4     -8.790625e-05 -0.000414   0.0020\n",
      "...             ...       ...      ...\n",
      "68384 -2.255937e-04 -0.000803  34.1920\n",
      "68385 -2.342500e-04 -0.000805  34.1925\n",
      "68386 -2.331250e-04 -0.000776  34.1930\n",
      "68387 -2.238750e-04 -0.000723  34.1935\n",
      "68388 -2.074688e-04 -0.000647  34.1940\n",
      "\n",
      "[68389 rows x 3 columns]\n"
     ]
    }
   ],
   "source": [
    "print(lista_de_Ventanas[0])"
   ]
  },
  {
   "cell_type": "markdown",
   "id": "67950a55",
   "metadata": {},
   "source": [
    "Ahora creo el primer Window slicing para dividir entre contracción y relajación, este a partir del que ya había hecho de primeras, pero sin overlap ya que lo que buscamos hacer aca es solo separación. "
   ]
  },
  {
   "cell_type": "code",
   "execution_count": null,
   "id": "9b196520",
   "metadata": {},
   "outputs": [],
   "source": [
    "import numpy as np\n",
    "import pandas as pd\n",
    "\n",
    "\n",
    "def window_slicing_1(df, window_time, time_col=\"tiempo\"):\n",
    "\n",
    "    ventanas = []\n",
    "    num_ventanas = 6 # se podría hacer como= duracion señal/ duración ventana para automatizar (aqui lo dejo fijo)\n",
    "    \n",
    "    for i in range(num_ventanas):\n",
    "        inicio = i * window_time\n",
    "        fin = (i+1) * window_time\n",
    "        tipo = \"relajacion\" if i % 2 == 0 else \"contraccion\"\n",
    "        \n",
    "        df_ventana = df[(df[time_col] >= inicio) & (df[time_col] < fin)].copy()  #selecciono los intervalos asi= inicio<=intervalo<fin\n",
    "        df_ventana[\"etiqueta\"] = tipo  # aqui se etiqueta cada ventana con respecto a el tipo \n",
    "        ventanas.append(df_ventana)\n",
    "    #df_individual = pd.concat(ventanas, ignore_index=True)\n",
    "    return ventanas\n",
    "    "
   ]
  },
  {
   "cell_type": "code",
   "execution_count": 14,
   "id": "095b0491",
   "metadata": {},
   "outputs": [
    {
     "name": "stdout",
     "output_type": "stream",
     "text": [
      "  onset 1 offset 1 onset 2 offset 2  onset 3 offset 3   SUJETO\n",
      "0   5,308   10,302  14,975    20,019  25,142    29,936       1\n",
      "1    5,32    10,03   15,52    19,902   25,31    29,949       2\n",
      "2   5,557   10,521  15,165    20,146  25,227    29,988       3\n",
      "3   5,192   10,217  15,712        20  25,498    29,939       4\n",
      "4   5,413   10,242  15,201    20,189    25,3    29,992       5\n",
      "5   5,232   10,209  15,078    20,142  24,881    29,953       6\n",
      "6   5,425   10,646  15,314    20,319  25,359        30       7\n"
     ]
    }
   ],
   "source": [
    "promedios=pd.read_csv(\"promedios_prueba.csv\", sep=';')\n",
    "print(promedios)\n",
    "\n",
    "    \n"
   ]
  },
  {
   "cell_type": "code",
   "execution_count": 20,
   "id": "bf78b90c",
   "metadata": {},
   "outputs": [
    {
     "name": "stdout",
     "output_type": "stream",
     "text": [
      "onset 1       5,308\n",
      "offset 1     10,302\n",
      "onset 2      14,975\n",
      "offset 2     20,019\n",
      "onset 3      25,142\n",
      "offset 3     29,936\n",
      "SUJETO            1\n",
      "Name: 0, dtype: object\n",
      "onset 1        5,32\n",
      "offset 1      10,03\n",
      "onset 2       15,52\n",
      "offset 2     19,902\n",
      "onset 3       25,31\n",
      "offset 3     29,949\n",
      "SUJETO            2\n",
      "Name: 1, dtype: object\n",
      "onset 1       5,557\n",
      "offset 1     10,521\n",
      "onset 2      15,165\n",
      "offset 2     20,146\n",
      "onset 3      25,227\n",
      "offset 3     29,988\n",
      "SUJETO            3\n",
      "Name: 2, dtype: object\n",
      "onset 1       5,192\n",
      "offset 1     10,217\n",
      "onset 2      15,712\n",
      "offset 2         20\n",
      "onset 3      25,498\n",
      "offset 3     29,939\n",
      "SUJETO            4\n",
      "Name: 3, dtype: object\n",
      "onset 1       5,413\n",
      "offset 1     10,242\n",
      "onset 2      15,201\n",
      "offset 2     20,189\n",
      "onset 3        25,3\n",
      "offset 3     29,992\n",
      "SUJETO            5\n",
      "Name: 4, dtype: object\n",
      "onset 1       5,232\n",
      "offset 1     10,209\n",
      "onset 2      15,078\n",
      "offset 2     20,142\n",
      "onset 3      24,881\n",
      "offset 3     29,953\n",
      "SUJETO            6\n",
      "Name: 5, dtype: object\n",
      "onset 1       5,425\n",
      "offset 1     10,646\n",
      "onset 2      15,314\n",
      "offset 2     20,319\n",
      "onset 3      25,359\n",
      "offset 3         30\n",
      "SUJETO            7\n",
      "Name: 6, dtype: object\n"
     ]
    }
   ],
   "source": [
    "for index, row in promedios.iterrows():\n",
    "    print(row)"
   ]
  },
  {
   "cell_type": "code",
   "execution_count": null,
   "id": "a744797b",
   "metadata": {},
   "outputs": [
    {
     "name": "stdout",
     "output_type": "stream",
     "text": [
      "[            Biceps       Triceps  tiempo    etiqueta\n",
      "0    -6.250000e-08  0.000000e+00  0.0000  relajacion\n",
      "1    -5.312500e-07  2.187500e-07  0.0005  relajacion\n",
      "2    -1.750000e-06  7.500000e-07  0.0010  relajacion\n",
      "3    -3.437500e-06  1.562500e-06  0.0015  relajacion\n",
      "4    -4.968750e-06  2.531250e-06  0.0020  relajacion\n",
      "...            ...           ...     ...         ...\n",
      "9995  3.409375e-05  1.778125e-05  4.9975  relajacion\n",
      "9996  3.803125e-05  1.828125e-05  4.9980  relajacion\n",
      "9997  4.118750e-05  1.881250e-05  4.9985  relajacion\n",
      "9998  4.271875e-05  1.928125e-05  4.9990  relajacion\n",
      "9999  4.209375e-05  1.934375e-05  4.9995  relajacion\n",
      "\n",
      "[10000 rows x 4 columns],          Biceps   Triceps  tiempo     etiqueta\n",
      "10000  0.000039  0.000019  5.0000  contraccion\n",
      "10001  0.000034  0.000017  5.0005  contraccion\n",
      "10002  0.000029  0.000016  5.0010  contraccion\n",
      "10003  0.000023  0.000015  5.0015  contraccion\n",
      "10004  0.000018  0.000015  5.0020  contraccion\n",
      "...         ...       ...     ...          ...\n",
      "19995  0.000283 -0.000440  9.9975  contraccion\n",
      "19996  0.000296 -0.000399  9.9980  contraccion\n",
      "19997  0.000272 -0.000351  9.9985  contraccion\n",
      "19998  0.000211 -0.000345  9.9990  contraccion\n",
      "19999  0.000126 -0.000404  9.9995  contraccion\n",
      "\n",
      "[10000 rows x 4 columns],              Biceps   Triceps   tiempo    etiqueta\n",
      "20000  2.968750e-05 -0.000507  10.0000  relajacion\n",
      "20001 -6.318750e-05 -0.000618  10.0005  relajacion\n",
      "20002 -1.397812e-04 -0.000726  10.0010  relajacion\n",
      "20003 -1.874375e-04 -0.000831  10.0015  relajacion\n",
      "20004 -1.989062e-04 -0.000924  10.0020  relajacion\n",
      "...             ...       ...      ...         ...\n",
      "29995 -6.625000e-06  0.000024  14.9975  relajacion\n",
      "29996 -1.156250e-06  0.000023  14.9980  relajacion\n",
      "29997  6.875000e-07  0.000023  14.9985  relajacion\n",
      "29998 -1.250000e-06  0.000023  14.9990  relajacion\n",
      "29999 -5.218750e-06  0.000023  14.9995  relajacion\n",
      "\n",
      "[10000 rows x 4 columns],              Biceps   Triceps   tiempo     etiqueta\n",
      "30000 -9.093750e-06  0.000023  15.0000  contraccion\n",
      "30001 -1.162500e-05  0.000022  15.0005  contraccion\n",
      "30002 -1.300000e-05  0.000022  15.0010  contraccion\n",
      "30003 -1.412500e-05  0.000021  15.0015  contraccion\n",
      "30004 -1.534375e-05  0.000021  15.0020  contraccion\n",
      "...             ...       ...      ...          ...\n",
      "39995  2.812500e-07 -0.000214  19.9975  contraccion\n",
      "39996 -8.437500e-06 -0.000106  19.9980  contraccion\n",
      "39997 -1.643750e-05  0.000039  19.9985  contraccion\n",
      "39998 -2.300000e-05  0.000201  19.9990  contraccion\n",
      "39999 -2.809375e-05  0.000339  19.9995  contraccion\n",
      "\n",
      "[10000 rows x 4 columns],          Biceps   Triceps   tiempo    etiqueta\n",
      "40000 -0.000032  0.000416  20.0000  relajacion\n",
      "40001 -0.000036  0.000417  20.0005  relajacion\n",
      "40002 -0.000038  0.000362  20.0010  relajacion\n",
      "40003 -0.000037  0.000280  20.0015  relajacion\n",
      "40004 -0.000033  0.000201  20.0020  relajacion\n",
      "...         ...       ...      ...         ...\n",
      "49995 -0.000011  0.000013  24.9975  relajacion\n",
      "49996 -0.000025  0.000012  24.9980  relajacion\n",
      "49997 -0.000040  0.000012  24.9985  relajacion\n",
      "49998 -0.000055  0.000012  24.9990  relajacion\n",
      "49999 -0.000069  0.000012  24.9995  relajacion\n",
      "\n",
      "[10000 rows x 4 columns],          Biceps   Triceps   tiempo     etiqueta\n",
      "50000 -0.000079  0.000012  25.0000  contraccion\n",
      "50001 -0.000085  0.000012  25.0005  contraccion\n",
      "50002 -0.000087  0.000013  25.0010  contraccion\n",
      "50003 -0.000086  0.000013  25.0015  contraccion\n",
      "50004 -0.000082  0.000014  25.0020  contraccion\n",
      "...         ...       ...      ...          ...\n",
      "59995  0.000022 -0.000016  29.9975  contraccion\n",
      "59996  0.000039 -0.000024  29.9980  contraccion\n",
      "59997  0.000061 -0.000029  29.9985  contraccion\n",
      "59998  0.000082 -0.000028  29.9990  contraccion\n",
      "59999  0.000097 -0.000019  29.9995  contraccion\n",
      "\n",
      "[10000 rows x 4 columns]]\n",
      "la cantidad de ventanas en esta lista es de 6\n"
     ]
    }
   ],
   "source": [
    "ventanas1= window_slicing_1(M)\n",
    "print(ventanas1)\n",
    "print(f\"la cantidad de ventanas en esta lista es de {len(ventanas1)}\")"
   ]
  },
  {
   "cell_type": "markdown",
   "id": "d80e3008",
   "metadata": {},
   "source": [
    "Cada ventana es de 10.000 muestras ya que son 5 segundos y cada muestra tiene una duración de 0.0005. "
   ]
  },
  {
   "cell_type": "markdown",
   "id": "002de153",
   "metadata": {},
   "source": [
    "Falta aplicar la metrica correcta a cada ventana"
   ]
  }
 ],
 "metadata": {
  "kernelspec": {
   "display_name": "Python 3",
   "language": "python",
   "name": "python3"
  },
  "language_info": {
   "codemirror_mode": {
    "name": "ipython",
    "version": 3
   },
   "file_extension": ".py",
   "mimetype": "text/x-python",
   "name": "python",
   "nbconvert_exporter": "python",
   "pygments_lexer": "ipython3",
   "version": "3.13.2"
  }
 },
 "nbformat": 4,
 "nbformat_minor": 5
}
